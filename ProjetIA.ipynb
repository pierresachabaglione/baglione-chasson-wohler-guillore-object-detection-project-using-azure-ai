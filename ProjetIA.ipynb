{
 "cells": [
  {
   "metadata": {},
   "cell_type": "markdown",
   "source": [
    "# Analyse d'images en temps réel avec Azure et OpenCV\n",
    "\n",
    "Ce script capture des images à partir de la caméra, les analyse en utilisant le service Azure Cognitive Services pour détecter des objets et générer des légendes, puis affiche les résultats en temps réel.\n",
    "\n",
    "# Importation des bibliothèques"
   ],
   "id": "4cd6e705c46850d8"
  },
  {
   "metadata": {
    "ExecuteTime": {
     "end_time": "2024-11-27T12:40:19.131929Z",
     "start_time": "2024-11-27T12:40:18.959967Z"
    }
   },
   "cell_type": "code",
   "source": [
    "from azure.ai.vision.imageanalysis import ImageAnalysisClient\n",
    "from azure.ai.vision.imageanalysis.models import VisualFeatures\n",
    "from azure.core.credentials import AzureKeyCredential\n",
    "import cv2\n",
    "from time import sleep"
   ],
   "id": "509e5af768916dd3",
   "outputs": [],
   "execution_count": 1
  },
  {
   "metadata": {},
   "cell_type": "markdown",
   "source": [
    "Ces lignes importent les bibliothèques nécessaires pour l'analyse d'images avec Azure, la manipulation de la vidéo avec OpenCV, et l'affichage des images dans un notebook Jupyter.\n",
    "\n",
    "# Configuration du client Azure"
   ],
   "id": "5fa804f58d893f2c"
  },
  {
   "metadata": {
    "ExecuteTime": {
     "end_time": "2024-11-27T12:40:29.789351Z",
     "start_time": "2024-11-27T12:40:29.529526Z"
    }
   },
   "cell_type": "code",
   "source": [
    "# Dinition de l'endpoint et la clé d'API pour le service Azure Cognitive Services.\n",
    "endpoint = \"https://votre-endpoint.cognitiveservices.azure.com/\"\n",
    "key = \"votre-cle-d-api\"\n",
    "\n",
    "# Création d'une instance du client ImageAnalysisClient avec les informations d'identification.\n",
    "client = ImageAnalysisClient(\n",
    "    endpoint=endpoint,\n",
    "    credential=AzureKeyCredential(key)\n",
    ")"
   ],
   "id": "3f500d7a23e9c6c9",
   "outputs": [],
   "execution_count": 2
  },
  {
   "metadata": {},
   "cell_type": "markdown",
   "source": [
    "Ici, nous configurons le client Azure pour l'analyse d'images en utilisant l'endpoint et la clé d'API fournis.\n",
    "\n",
    "# Initialisation de la capture vidéo\n"
   ],
   "id": "d5b5f65d2e50b545"
  },
  {
   "metadata": {
    "ExecuteTime": {
     "end_time": "2024-11-27T12:40:33.271303Z",
     "start_time": "2024-11-27T12:40:31.076622Z"
    }
   },
   "cell_type": "code",
   "source": [
    "# Initialisation de la capture vidéo à partir de la caméra par défaut.\n",
    "cam = cv2.VideoCapture(0)\n",
    "\n",
    "# Obtention les dimensions du cadre vidéo.\n",
    "frame_width = int(cam.get(cv2.CAP_PROP_FRAME_WIDTH))\n",
    "frame_height = int(cam.get(cv2.CAP_PROP_FRAME_HEIGHT))"
   ],
   "id": "ac4726e83dc4b2dd",
   "outputs": [],
   "execution_count": 3
  },
  {
   "metadata": {},
   "cell_type": "markdown",
   "source": [
    "Ces lignes initialisent la capture vidéo à partir de la caméra par défaut et obtiennent les dimensions du cadre vidéo.\n",
    "\n",
    "# Boucle principale pour la capture et l'analyse des images\n",
    "\n",
    "Cette boucle capture chaque image de la vidéo, l'encode en JPEG, et envoie les données d'image au service Azure pour analyse.\n"
   ],
   "id": "c20df3e58060066f"
  },
  {
   "metadata": {
    "ExecuteTime": {
     "end_time": "2024-11-27T12:40:37.185232Z",
     "start_time": "2024-11-27T12:40:35.340773Z"
    }
   },
   "cell_type": "code",
   "source": [
    "while True:\n",
    "    ret, frame = cam.read()\n",
    "    if not ret:\n",
    "        print(\"Failed to grab frame\")\n",
    "        break\n",
    "\n",
    "    # Encodez l'image capturée en JPEG.\n",
    "    _, buffer = cv2.imencode('.jpg', frame)\n",
    "    image_data = buffer.tobytes()\n",
    "\n",
    "    # Analysez l'image en utilisant le service Azure.\n",
    "    result = client.analyze(\n",
    "    image_data=image_data,\n",
    "    visual_features=[VisualFeatures.OBJECTS, VisualFeatures.CAPTION]\n",
    "    )\n",
    "\n",
    "    ## Dessin des objets détectés et affichage des résultats\n",
    "    # Dessin des rectangles autour des objets détectés et affichage de leurs noms.\n",
    "    for object in result[\"objectsResult\"][\"values\"]:\n",
    "        x1, y1 = object[\"boundingBox\"]['x'], object[\"boundingBox\"]['y']\n",
    "        x2, y2 = x1 + object[\"boundingBox\"][\"w\"], y1 + object[\"boundingBox\"][\"h\"]\n",
    "        name = object[\"tags\"][0][\"name\"]\n",
    "        confidence = object[\"tags\"][0][\"confidence\"]\n",
    "        cv2.rectangle(frame, (x1, y1), (x2, y2), (0, 0, 255), 1)\n",
    "        cv2.putText(frame, name, (x1, y1), cv2.FONT_HERSHEY_DUPLEX, 1, (0, 0, 255), 2)\n",
    "\n",
    "    # Affichez la légende générée par le service Azure.\n",
    "    caption = result[\"captionResult\"]\n",
    "    caption_text = caption[\"text\"]\n",
    "    x = int(frame_width/2 - len(caption_text)*4)\n",
    "    y = 15\n",
    "    cv2.putText(frame, caption_text, (x, y), cv2.FONT_HERSHEY_DUPLEX, 0.5, (0, 0, 255))\n",
    "\n",
    "    # Affichage de l'image avec la reconnaissance d'objets AI\n",
    "    cv2.imshow('Camera with AI Object Recognition', frame)\n",
    "\n",
    "    # Arrêter la boucle si la touche 'c' est pressée.\n",
    "    if cv2.waitKey(1)==ord('c'):\n",
    "       break\n",
    "\n",
    "    # Attendre 3 secondes avant de capturer la prochaine image. (Dû à la limitation de l'API gratuite)\n",
    "    sleep(3)\n",
    "\n",
    "# Libérez la caméra et fermez toutes les fenêtres OpenCV.\n",
    "cam.release()\n",
    "cv2.destroyAllWindows()"
   ],
   "id": "89157f033f7cb987",
   "outputs": [
    {
     "ename": "ServiceRequestError",
     "evalue": "<urllib3.connection.HTTPSConnection object at 0x00000212192A80B0>: Failed to resolve 'votre-endpoint.cognitiveservices.azure.com' ([Errno 11001] getaddrinfo failed)",
     "output_type": "error",
     "traceback": [
      "\u001B[1;31m---------------------------------------------------------------------------\u001B[0m",
      "\u001B[1;31mServiceRequestError\u001B[0m                       Traceback (most recent call last)",
      "Cell \u001B[1;32mIn[4], line 12\u001B[0m\n\u001B[0;32m      9\u001B[0m image_data \u001B[38;5;241m=\u001B[39m buffer\u001B[38;5;241m.\u001B[39mtobytes()\n\u001B[0;32m     11\u001B[0m \u001B[38;5;66;03m# Analysez l'image en utilisant le service Azure.\u001B[39;00m\n\u001B[1;32m---> 12\u001B[0m result \u001B[38;5;241m=\u001B[39m \u001B[43mclient\u001B[49m\u001B[38;5;241;43m.\u001B[39;49m\u001B[43manalyze\u001B[49m\u001B[43m(\u001B[49m\n\u001B[0;32m     13\u001B[0m \u001B[43m\u001B[49m\u001B[43mimage_data\u001B[49m\u001B[38;5;241;43m=\u001B[39;49m\u001B[43mimage_data\u001B[49m\u001B[43m,\u001B[49m\n\u001B[0;32m     14\u001B[0m \u001B[43m\u001B[49m\u001B[43mvisual_features\u001B[49m\u001B[38;5;241;43m=\u001B[39;49m\u001B[43m[\u001B[49m\u001B[43mVisualFeatures\u001B[49m\u001B[38;5;241;43m.\u001B[39;49m\u001B[43mOBJECTS\u001B[49m\u001B[43m,\u001B[49m\u001B[43m \u001B[49m\u001B[43mVisualFeatures\u001B[49m\u001B[38;5;241;43m.\u001B[39;49m\u001B[43mCAPTION\u001B[49m\u001B[43m]\u001B[49m\n\u001B[0;32m     15\u001B[0m \u001B[43m\u001B[49m\u001B[43m)\u001B[49m\n\u001B[0;32m     17\u001B[0m \u001B[38;5;66;03m## Dessin des objets détectés et affichage des résultats\u001B[39;00m\n\u001B[0;32m     18\u001B[0m \u001B[38;5;66;03m# Dessin des rectangles autour des objets détectés et affichage de leurs noms.\u001B[39;00m\n\u001B[0;32m     19\u001B[0m \u001B[38;5;28;01mfor\u001B[39;00m \u001B[38;5;28mobject\u001B[39m \u001B[38;5;129;01min\u001B[39;00m result[\u001B[38;5;124m\"\u001B[39m\u001B[38;5;124mobjectsResult\u001B[39m\u001B[38;5;124m\"\u001B[39m][\u001B[38;5;124m\"\u001B[39m\u001B[38;5;124mvalues\u001B[39m\u001B[38;5;124m\"\u001B[39m]:\n",
      "File \u001B[1;32m~\\Desktop\\ESAIP\\AzureAi\\venv\\Lib\\site-packages\\azure\\core\\tracing\\decorator.py:105\u001B[0m, in \u001B[0;36mdistributed_trace.<locals>.decorator.<locals>.wrapper_use_tracer\u001B[1;34m(*args, **kwargs)\u001B[0m\n\u001B[0;32m    103\u001B[0m span_impl_type \u001B[38;5;241m=\u001B[39m settings\u001B[38;5;241m.\u001B[39mtracing_implementation()\n\u001B[0;32m    104\u001B[0m \u001B[38;5;28;01mif\u001B[39;00m span_impl_type \u001B[38;5;129;01mis\u001B[39;00m \u001B[38;5;28;01mNone\u001B[39;00m:\n\u001B[1;32m--> 105\u001B[0m     \u001B[38;5;28;01mreturn\u001B[39;00m \u001B[43mfunc\u001B[49m\u001B[43m(\u001B[49m\u001B[38;5;241;43m*\u001B[39;49m\u001B[43margs\u001B[49m\u001B[43m,\u001B[49m\u001B[43m \u001B[49m\u001B[38;5;241;43m*\u001B[39;49m\u001B[38;5;241;43m*\u001B[39;49m\u001B[43mkwargs\u001B[49m\u001B[43m)\u001B[49m\n\u001B[0;32m    107\u001B[0m \u001B[38;5;66;03m# Merge span is parameter is set, but only if no explicit parent are passed\u001B[39;00m\n\u001B[0;32m    108\u001B[0m \u001B[38;5;28;01mif\u001B[39;00m merge_span \u001B[38;5;129;01mand\u001B[39;00m \u001B[38;5;129;01mnot\u001B[39;00m passed_in_parent:\n",
      "File \u001B[1;32m~\\Desktop\\ESAIP\\AzureAi\\venv\\Lib\\site-packages\\azure\\ai\\vision\\imageanalysis\\_patch.py:141\u001B[0m, in \u001B[0;36mImageAnalysisClient.analyze\u001B[1;34m(self, image_data, visual_features, language, gender_neutral_caption, smart_crops_aspect_ratios, model_version, **kwargs)\u001B[0m\n\u001B[0;32m    104\u001B[0m \u001B[38;5;250m\u001B[39m\u001B[38;5;124;03m\"\"\"Performs a single Image Analysis operation.\u001B[39;00m\n\u001B[0;32m    105\u001B[0m \n\u001B[0;32m    106\u001B[0m \u001B[38;5;124;03m:param image_data: A buffer containing the whole image to be analyzed.\u001B[39;00m\n\u001B[1;32m   (...)\u001B[0m\n\u001B[0;32m    136\u001B[0m \u001B[38;5;124;03m:raises ~azure.core.exceptions.HttpResponseError:\u001B[39;00m\n\u001B[0;32m    137\u001B[0m \u001B[38;5;124;03m\"\"\"\u001B[39;00m\n\u001B[0;32m    139\u001B[0m visual_features_impl: List[Union[\u001B[38;5;28mstr\u001B[39m, _models\u001B[38;5;241m.\u001B[39mVisualFeatures]] \u001B[38;5;241m=\u001B[39m \u001B[38;5;28mlist\u001B[39m(visual_features)\n\u001B[1;32m--> 141\u001B[0m \u001B[38;5;28;01mreturn\u001B[39;00m \u001B[43mImageAnalysisClientOperationsMixin\u001B[49m\u001B[38;5;241;43m.\u001B[39;49m\u001B[43m_analyze_from_image_data\u001B[49m\u001B[43m(\u001B[49m\u001B[43m  \u001B[49m\u001B[38;5;66;43;03m# pylint: disable=protected-access\u001B[39;49;00m\n\u001B[0;32m    142\u001B[0m \u001B[43m    \u001B[49m\u001B[38;5;28;43mself\u001B[39;49m\u001B[43m,\u001B[49m\n\u001B[0;32m    143\u001B[0m \u001B[43m    \u001B[49m\u001B[43mimage_data\u001B[49m\u001B[38;5;241;43m=\u001B[39;49m\u001B[43mimage_data\u001B[49m\u001B[43m,\u001B[49m\n\u001B[0;32m    144\u001B[0m \u001B[43m    \u001B[49m\u001B[43mvisual_features\u001B[49m\u001B[38;5;241;43m=\u001B[39;49m\u001B[43mvisual_features_impl\u001B[49m\u001B[43m,\u001B[49m\n\u001B[0;32m    145\u001B[0m \u001B[43m    \u001B[49m\u001B[43mlanguage\u001B[49m\u001B[38;5;241;43m=\u001B[39;49m\u001B[43mlanguage\u001B[49m\u001B[43m,\u001B[49m\n\u001B[0;32m    146\u001B[0m \u001B[43m    \u001B[49m\u001B[43mgender_neutral_caption\u001B[49m\u001B[38;5;241;43m=\u001B[39;49m\u001B[43mgender_neutral_caption\u001B[49m\u001B[43m,\u001B[49m\n\u001B[0;32m    147\u001B[0m \u001B[43m    \u001B[49m\u001B[43msmart_crops_aspect_ratios\u001B[49m\u001B[38;5;241;43m=\u001B[39;49m\u001B[43msmart_crops_aspect_ratios\u001B[49m\u001B[43m,\u001B[49m\n\u001B[0;32m    148\u001B[0m \u001B[43m    \u001B[49m\u001B[43mmodel_version\u001B[49m\u001B[38;5;241;43m=\u001B[39;49m\u001B[43mmodel_version\u001B[49m\u001B[43m,\u001B[49m\n\u001B[0;32m    149\u001B[0m \u001B[43m    \u001B[49m\u001B[38;5;241;43m*\u001B[39;49m\u001B[38;5;241;43m*\u001B[39;49m\u001B[43mkwargs\u001B[49m\n\u001B[0;32m    150\u001B[0m \u001B[43m\u001B[49m\u001B[43m)\u001B[49m\n",
      "File \u001B[1;32m~\\Desktop\\ESAIP\\AzureAi\\venv\\Lib\\site-packages\\azure\\core\\tracing\\decorator.py:105\u001B[0m, in \u001B[0;36mdistributed_trace.<locals>.decorator.<locals>.wrapper_use_tracer\u001B[1;34m(*args, **kwargs)\u001B[0m\n\u001B[0;32m    103\u001B[0m span_impl_type \u001B[38;5;241m=\u001B[39m settings\u001B[38;5;241m.\u001B[39mtracing_implementation()\n\u001B[0;32m    104\u001B[0m \u001B[38;5;28;01mif\u001B[39;00m span_impl_type \u001B[38;5;129;01mis\u001B[39;00m \u001B[38;5;28;01mNone\u001B[39;00m:\n\u001B[1;32m--> 105\u001B[0m     \u001B[38;5;28;01mreturn\u001B[39;00m \u001B[43mfunc\u001B[49m\u001B[43m(\u001B[49m\u001B[38;5;241;43m*\u001B[39;49m\u001B[43margs\u001B[49m\u001B[43m,\u001B[49m\u001B[43m \u001B[49m\u001B[38;5;241;43m*\u001B[39;49m\u001B[38;5;241;43m*\u001B[39;49m\u001B[43mkwargs\u001B[49m\u001B[43m)\u001B[49m\n\u001B[0;32m    107\u001B[0m \u001B[38;5;66;03m# Merge span is parameter is set, but only if no explicit parent are passed\u001B[39;00m\n\u001B[0;32m    108\u001B[0m \u001B[38;5;28;01mif\u001B[39;00m merge_span \u001B[38;5;129;01mand\u001B[39;00m \u001B[38;5;129;01mnot\u001B[39;00m passed_in_parent:\n",
      "File \u001B[1;32m~\\Desktop\\ESAIP\\AzureAi\\venv\\Lib\\site-packages\\azure\\ai\\vision\\imageanalysis\\_operations\\_operations.py:324\u001B[0m, in \u001B[0;36mImageAnalysisClientOperationsMixin._analyze_from_image_data\u001B[1;34m(self, image_data, visual_features, language, gender_neutral_caption, smart_crops_aspect_ratios, model_version, **kwargs)\u001B[0m\n\u001B[0;32m    321\u001B[0m _request\u001B[38;5;241m.\u001B[39murl \u001B[38;5;241m=\u001B[39m \u001B[38;5;28mself\u001B[39m\u001B[38;5;241m.\u001B[39m_client\u001B[38;5;241m.\u001B[39mformat_url(_request\u001B[38;5;241m.\u001B[39murl, \u001B[38;5;241m*\u001B[39m\u001B[38;5;241m*\u001B[39mpath_format_arguments)\n\u001B[0;32m    323\u001B[0m _stream \u001B[38;5;241m=\u001B[39m kwargs\u001B[38;5;241m.\u001B[39mpop(\u001B[38;5;124m\"\u001B[39m\u001B[38;5;124mstream\u001B[39m\u001B[38;5;124m\"\u001B[39m, \u001B[38;5;28;01mFalse\u001B[39;00m)\n\u001B[1;32m--> 324\u001B[0m pipeline_response: PipelineResponse \u001B[38;5;241m=\u001B[39m \u001B[38;5;28;43mself\u001B[39;49m\u001B[38;5;241;43m.\u001B[39;49m\u001B[43m_client\u001B[49m\u001B[38;5;241;43m.\u001B[39;49m\u001B[43m_pipeline\u001B[49m\u001B[38;5;241;43m.\u001B[39;49m\u001B[43mrun\u001B[49m\u001B[43m(\u001B[49m\u001B[43m  \u001B[49m\u001B[38;5;66;43;03m# pylint: disable=protected-access\u001B[39;49;00m\n\u001B[0;32m    325\u001B[0m \u001B[43m    \u001B[49m\u001B[43m_request\u001B[49m\u001B[43m,\u001B[49m\u001B[43m \u001B[49m\u001B[43mstream\u001B[49m\u001B[38;5;241;43m=\u001B[39;49m\u001B[43m_stream\u001B[49m\u001B[43m,\u001B[49m\u001B[43m \u001B[49m\u001B[38;5;241;43m*\u001B[39;49m\u001B[38;5;241;43m*\u001B[39;49m\u001B[43mkwargs\u001B[49m\n\u001B[0;32m    326\u001B[0m \u001B[43m\u001B[49m\u001B[43m)\u001B[49m\n\u001B[0;32m    328\u001B[0m response \u001B[38;5;241m=\u001B[39m pipeline_response\u001B[38;5;241m.\u001B[39mhttp_response\n\u001B[0;32m    330\u001B[0m \u001B[38;5;28;01mif\u001B[39;00m response\u001B[38;5;241m.\u001B[39mstatus_code \u001B[38;5;129;01mnot\u001B[39;00m \u001B[38;5;129;01min\u001B[39;00m [\u001B[38;5;241m200\u001B[39m]:\n",
      "File \u001B[1;32m~\\Desktop\\ESAIP\\AzureAi\\venv\\Lib\\site-packages\\azure\\core\\pipeline\\_base.py:240\u001B[0m, in \u001B[0;36mPipeline.run\u001B[1;34m(self, request, **kwargs)\u001B[0m\n\u001B[0;32m    238\u001B[0m pipeline_request: PipelineRequest[HTTPRequestType] \u001B[38;5;241m=\u001B[39m PipelineRequest(request, context)\n\u001B[0;32m    239\u001B[0m first_node \u001B[38;5;241m=\u001B[39m \u001B[38;5;28mself\u001B[39m\u001B[38;5;241m.\u001B[39m_impl_policies[\u001B[38;5;241m0\u001B[39m] \u001B[38;5;28;01mif\u001B[39;00m \u001B[38;5;28mself\u001B[39m\u001B[38;5;241m.\u001B[39m_impl_policies \u001B[38;5;28;01melse\u001B[39;00m _TransportRunner(\u001B[38;5;28mself\u001B[39m\u001B[38;5;241m.\u001B[39m_transport)\n\u001B[1;32m--> 240\u001B[0m \u001B[38;5;28;01mreturn\u001B[39;00m \u001B[43mfirst_node\u001B[49m\u001B[38;5;241;43m.\u001B[39;49m\u001B[43msend\u001B[49m\u001B[43m(\u001B[49m\u001B[43mpipeline_request\u001B[49m\u001B[43m)\u001B[49m\n",
      "File \u001B[1;32m~\\Desktop\\ESAIP\\AzureAi\\venv\\Lib\\site-packages\\azure\\core\\pipeline\\_base.py:96\u001B[0m, in \u001B[0;36m_SansIOHTTPPolicyRunner.send\u001B[1;34m(self, request)\u001B[0m\n\u001B[0;32m     94\u001B[0m _await_result(\u001B[38;5;28mself\u001B[39m\u001B[38;5;241m.\u001B[39m_policy\u001B[38;5;241m.\u001B[39mon_request, request)\n\u001B[0;32m     95\u001B[0m \u001B[38;5;28;01mtry\u001B[39;00m:\n\u001B[1;32m---> 96\u001B[0m     response \u001B[38;5;241m=\u001B[39m \u001B[38;5;28;43mself\u001B[39;49m\u001B[38;5;241;43m.\u001B[39;49m\u001B[43mnext\u001B[49m\u001B[38;5;241;43m.\u001B[39;49m\u001B[43msend\u001B[49m\u001B[43m(\u001B[49m\u001B[43mrequest\u001B[49m\u001B[43m)\u001B[49m\n\u001B[0;32m     97\u001B[0m \u001B[38;5;28;01mexcept\u001B[39;00m \u001B[38;5;167;01mException\u001B[39;00m:\n\u001B[0;32m     98\u001B[0m     _await_result(\u001B[38;5;28mself\u001B[39m\u001B[38;5;241m.\u001B[39m_policy\u001B[38;5;241m.\u001B[39mon_exception, request)\n",
      "File \u001B[1;32m~\\Desktop\\ESAIP\\AzureAi\\venv\\Lib\\site-packages\\azure\\core\\pipeline\\_base.py:96\u001B[0m, in \u001B[0;36m_SansIOHTTPPolicyRunner.send\u001B[1;34m(self, request)\u001B[0m\n\u001B[0;32m     94\u001B[0m _await_result(\u001B[38;5;28mself\u001B[39m\u001B[38;5;241m.\u001B[39m_policy\u001B[38;5;241m.\u001B[39mon_request, request)\n\u001B[0;32m     95\u001B[0m \u001B[38;5;28;01mtry\u001B[39;00m:\n\u001B[1;32m---> 96\u001B[0m     response \u001B[38;5;241m=\u001B[39m \u001B[38;5;28;43mself\u001B[39;49m\u001B[38;5;241;43m.\u001B[39;49m\u001B[43mnext\u001B[49m\u001B[38;5;241;43m.\u001B[39;49m\u001B[43msend\u001B[49m\u001B[43m(\u001B[49m\u001B[43mrequest\u001B[49m\u001B[43m)\u001B[49m\n\u001B[0;32m     97\u001B[0m \u001B[38;5;28;01mexcept\u001B[39;00m \u001B[38;5;167;01mException\u001B[39;00m:\n\u001B[0;32m     98\u001B[0m     _await_result(\u001B[38;5;28mself\u001B[39m\u001B[38;5;241m.\u001B[39m_policy\u001B[38;5;241m.\u001B[39mon_exception, request)\n",
      "    \u001B[1;31m[... skipping similar frames: _SansIOHTTPPolicyRunner.send at line 96 (2 times)]\u001B[0m\n",
      "File \u001B[1;32m~\\Desktop\\ESAIP\\AzureAi\\venv\\Lib\\site-packages\\azure\\core\\pipeline\\_base.py:96\u001B[0m, in \u001B[0;36m_SansIOHTTPPolicyRunner.send\u001B[1;34m(self, request)\u001B[0m\n\u001B[0;32m     94\u001B[0m _await_result(\u001B[38;5;28mself\u001B[39m\u001B[38;5;241m.\u001B[39m_policy\u001B[38;5;241m.\u001B[39mon_request, request)\n\u001B[0;32m     95\u001B[0m \u001B[38;5;28;01mtry\u001B[39;00m:\n\u001B[1;32m---> 96\u001B[0m     response \u001B[38;5;241m=\u001B[39m \u001B[38;5;28;43mself\u001B[39;49m\u001B[38;5;241;43m.\u001B[39;49m\u001B[43mnext\u001B[49m\u001B[38;5;241;43m.\u001B[39;49m\u001B[43msend\u001B[49m\u001B[43m(\u001B[49m\u001B[43mrequest\u001B[49m\u001B[43m)\u001B[49m\n\u001B[0;32m     97\u001B[0m \u001B[38;5;28;01mexcept\u001B[39;00m \u001B[38;5;167;01mException\u001B[39;00m:\n\u001B[0;32m     98\u001B[0m     _await_result(\u001B[38;5;28mself\u001B[39m\u001B[38;5;241m.\u001B[39m_policy\u001B[38;5;241m.\u001B[39mon_exception, request)\n",
      "File \u001B[1;32m~\\Desktop\\ESAIP\\AzureAi\\venv\\Lib\\site-packages\\azure\\core\\pipeline\\policies\\_redirect.py:204\u001B[0m, in \u001B[0;36mRedirectPolicy.send\u001B[1;34m(self, request)\u001B[0m\n\u001B[0;32m    202\u001B[0m original_domain \u001B[38;5;241m=\u001B[39m get_domain(request\u001B[38;5;241m.\u001B[39mhttp_request\u001B[38;5;241m.\u001B[39murl) \u001B[38;5;28;01mif\u001B[39;00m redirect_settings[\u001B[38;5;124m\"\u001B[39m\u001B[38;5;124mallow\u001B[39m\u001B[38;5;124m\"\u001B[39m] \u001B[38;5;28;01melse\u001B[39;00m \u001B[38;5;28;01mNone\u001B[39;00m\n\u001B[0;32m    203\u001B[0m \u001B[38;5;28;01mwhile\u001B[39;00m retryable:\n\u001B[1;32m--> 204\u001B[0m     response \u001B[38;5;241m=\u001B[39m \u001B[38;5;28;43mself\u001B[39;49m\u001B[38;5;241;43m.\u001B[39;49m\u001B[43mnext\u001B[49m\u001B[38;5;241;43m.\u001B[39;49m\u001B[43msend\u001B[49m\u001B[43m(\u001B[49m\u001B[43mrequest\u001B[49m\u001B[43m)\u001B[49m\n\u001B[0;32m    205\u001B[0m     redirect_location \u001B[38;5;241m=\u001B[39m \u001B[38;5;28mself\u001B[39m\u001B[38;5;241m.\u001B[39mget_redirect_location(response)\n\u001B[0;32m    206\u001B[0m     \u001B[38;5;28;01mif\u001B[39;00m redirect_location \u001B[38;5;129;01mand\u001B[39;00m redirect_settings[\u001B[38;5;124m\"\u001B[39m\u001B[38;5;124mallow\u001B[39m\u001B[38;5;124m\"\u001B[39m]:\n",
      "File \u001B[1;32m~\\Desktop\\ESAIP\\AzureAi\\venv\\Lib\\site-packages\\azure\\core\\pipeline\\policies\\_retry.py:573\u001B[0m, in \u001B[0;36mRetryPolicy.send\u001B[1;34m(self, request)\u001B[0m\n\u001B[0;32m    571\u001B[0m                 is_response_error \u001B[38;5;241m=\u001B[39m \u001B[38;5;28;01mTrue\u001B[39;00m\n\u001B[0;32m    572\u001B[0m             \u001B[38;5;28;01mcontinue\u001B[39;00m\n\u001B[1;32m--> 573\u001B[0m     \u001B[38;5;28;01mraise\u001B[39;00m err\n\u001B[0;32m    574\u001B[0m \u001B[38;5;28;01mfinally\u001B[39;00m:\n\u001B[0;32m    575\u001B[0m     end_time \u001B[38;5;241m=\u001B[39m time\u001B[38;5;241m.\u001B[39mtime()\n",
      "File \u001B[1;32m~\\Desktop\\ESAIP\\AzureAi\\venv\\Lib\\site-packages\\azure\\core\\pipeline\\policies\\_retry.py:551\u001B[0m, in \u001B[0;36mRetryPolicy.send\u001B[1;34m(self, request)\u001B[0m\n\u001B[0;32m    549\u001B[0m \u001B[38;5;28mself\u001B[39m\u001B[38;5;241m.\u001B[39m_configure_timeout(request, absolute_timeout, is_response_error)\n\u001B[0;32m    550\u001B[0m request\u001B[38;5;241m.\u001B[39mcontext[\u001B[38;5;124m\"\u001B[39m\u001B[38;5;124mretry_count\u001B[39m\u001B[38;5;124m\"\u001B[39m] \u001B[38;5;241m=\u001B[39m \u001B[38;5;28mlen\u001B[39m(retry_settings[\u001B[38;5;124m\"\u001B[39m\u001B[38;5;124mhistory\u001B[39m\u001B[38;5;124m\"\u001B[39m])\n\u001B[1;32m--> 551\u001B[0m response \u001B[38;5;241m=\u001B[39m \u001B[38;5;28;43mself\u001B[39;49m\u001B[38;5;241;43m.\u001B[39;49m\u001B[43mnext\u001B[49m\u001B[38;5;241;43m.\u001B[39;49m\u001B[43msend\u001B[49m\u001B[43m(\u001B[49m\u001B[43mrequest\u001B[49m\u001B[43m)\u001B[49m\n\u001B[0;32m    552\u001B[0m \u001B[38;5;28;01mif\u001B[39;00m \u001B[38;5;28mself\u001B[39m\u001B[38;5;241m.\u001B[39mis_retry(retry_settings, response):\n\u001B[0;32m    553\u001B[0m     retry_active \u001B[38;5;241m=\u001B[39m \u001B[38;5;28mself\u001B[39m\u001B[38;5;241m.\u001B[39mincrement(retry_settings, response\u001B[38;5;241m=\u001B[39mresponse)\n",
      "File \u001B[1;32m~\\Desktop\\ESAIP\\AzureAi\\venv\\Lib\\site-packages\\azure\\core\\pipeline\\_base.py:96\u001B[0m, in \u001B[0;36m_SansIOHTTPPolicyRunner.send\u001B[1;34m(self, request)\u001B[0m\n\u001B[0;32m     94\u001B[0m _await_result(\u001B[38;5;28mself\u001B[39m\u001B[38;5;241m.\u001B[39m_policy\u001B[38;5;241m.\u001B[39mon_request, request)\n\u001B[0;32m     95\u001B[0m \u001B[38;5;28;01mtry\u001B[39;00m:\n\u001B[1;32m---> 96\u001B[0m     response \u001B[38;5;241m=\u001B[39m \u001B[38;5;28;43mself\u001B[39;49m\u001B[38;5;241;43m.\u001B[39;49m\u001B[43mnext\u001B[49m\u001B[38;5;241;43m.\u001B[39;49m\u001B[43msend\u001B[49m\u001B[43m(\u001B[49m\u001B[43mrequest\u001B[49m\u001B[43m)\u001B[49m\n\u001B[0;32m     97\u001B[0m \u001B[38;5;28;01mexcept\u001B[39;00m \u001B[38;5;167;01mException\u001B[39;00m:\n\u001B[0;32m     98\u001B[0m     _await_result(\u001B[38;5;28mself\u001B[39m\u001B[38;5;241m.\u001B[39m_policy\u001B[38;5;241m.\u001B[39mon_exception, request)\n",
      "File \u001B[1;32m~\\Desktop\\ESAIP\\AzureAi\\venv\\Lib\\site-packages\\azure\\core\\pipeline\\_base.py:96\u001B[0m, in \u001B[0;36m_SansIOHTTPPolicyRunner.send\u001B[1;34m(self, request)\u001B[0m\n\u001B[0;32m     94\u001B[0m _await_result(\u001B[38;5;28mself\u001B[39m\u001B[38;5;241m.\u001B[39m_policy\u001B[38;5;241m.\u001B[39mon_request, request)\n\u001B[0;32m     95\u001B[0m \u001B[38;5;28;01mtry\u001B[39;00m:\n\u001B[1;32m---> 96\u001B[0m     response \u001B[38;5;241m=\u001B[39m \u001B[38;5;28;43mself\u001B[39;49m\u001B[38;5;241;43m.\u001B[39;49m\u001B[43mnext\u001B[49m\u001B[38;5;241;43m.\u001B[39;49m\u001B[43msend\u001B[49m\u001B[43m(\u001B[49m\u001B[43mrequest\u001B[49m\u001B[43m)\u001B[49m\n\u001B[0;32m     97\u001B[0m \u001B[38;5;28;01mexcept\u001B[39;00m \u001B[38;5;167;01mException\u001B[39;00m:\n\u001B[0;32m     98\u001B[0m     _await_result(\u001B[38;5;28mself\u001B[39m\u001B[38;5;241m.\u001B[39m_policy\u001B[38;5;241m.\u001B[39mon_exception, request)\n",
      "    \u001B[1;31m[... skipping similar frames: _SansIOHTTPPolicyRunner.send at line 96 (3 times)]\u001B[0m\n",
      "File \u001B[1;32m~\\Desktop\\ESAIP\\AzureAi\\venv\\Lib\\site-packages\\azure\\core\\pipeline\\_base.py:96\u001B[0m, in \u001B[0;36m_SansIOHTTPPolicyRunner.send\u001B[1;34m(self, request)\u001B[0m\n\u001B[0;32m     94\u001B[0m _await_result(\u001B[38;5;28mself\u001B[39m\u001B[38;5;241m.\u001B[39m_policy\u001B[38;5;241m.\u001B[39mon_request, request)\n\u001B[0;32m     95\u001B[0m \u001B[38;5;28;01mtry\u001B[39;00m:\n\u001B[1;32m---> 96\u001B[0m     response \u001B[38;5;241m=\u001B[39m \u001B[38;5;28;43mself\u001B[39;49m\u001B[38;5;241;43m.\u001B[39;49m\u001B[43mnext\u001B[49m\u001B[38;5;241;43m.\u001B[39;49m\u001B[43msend\u001B[49m\u001B[43m(\u001B[49m\u001B[43mrequest\u001B[49m\u001B[43m)\u001B[49m\n\u001B[0;32m     97\u001B[0m \u001B[38;5;28;01mexcept\u001B[39;00m \u001B[38;5;167;01mException\u001B[39;00m:\n\u001B[0;32m     98\u001B[0m     _await_result(\u001B[38;5;28mself\u001B[39m\u001B[38;5;241m.\u001B[39m_policy\u001B[38;5;241m.\u001B[39mon_exception, request)\n",
      "File \u001B[1;32m~\\Desktop\\ESAIP\\AzureAi\\venv\\Lib\\site-packages\\azure\\core\\pipeline\\_base.py:128\u001B[0m, in \u001B[0;36m_TransportRunner.send\u001B[1;34m(self, request)\u001B[0m\n\u001B[0;32m    118\u001B[0m \u001B[38;5;250m\u001B[39m\u001B[38;5;124;03m\"\"\"HTTP transport send method.\u001B[39;00m\n\u001B[0;32m    119\u001B[0m \n\u001B[0;32m    120\u001B[0m \u001B[38;5;124;03m:param request: The PipelineRequest object.\u001B[39;00m\n\u001B[1;32m   (...)\u001B[0m\n\u001B[0;32m    123\u001B[0m \u001B[38;5;124;03m:rtype: ~azure.core.pipeline.PipelineResponse\u001B[39;00m\n\u001B[0;32m    124\u001B[0m \u001B[38;5;124;03m\"\"\"\u001B[39;00m\n\u001B[0;32m    125\u001B[0m cleanup_kwargs_for_transport(request\u001B[38;5;241m.\u001B[39mcontext\u001B[38;5;241m.\u001B[39moptions)\n\u001B[0;32m    126\u001B[0m \u001B[38;5;28;01mreturn\u001B[39;00m PipelineResponse(\n\u001B[0;32m    127\u001B[0m     request\u001B[38;5;241m.\u001B[39mhttp_request,\n\u001B[1;32m--> 128\u001B[0m     \u001B[38;5;28;43mself\u001B[39;49m\u001B[38;5;241;43m.\u001B[39;49m\u001B[43m_sender\u001B[49m\u001B[38;5;241;43m.\u001B[39;49m\u001B[43msend\u001B[49m\u001B[43m(\u001B[49m\u001B[43mrequest\u001B[49m\u001B[38;5;241;43m.\u001B[39;49m\u001B[43mhttp_request\u001B[49m\u001B[43m,\u001B[49m\u001B[43m \u001B[49m\u001B[38;5;241;43m*\u001B[39;49m\u001B[38;5;241;43m*\u001B[39;49m\u001B[43mrequest\u001B[49m\u001B[38;5;241;43m.\u001B[39;49m\u001B[43mcontext\u001B[49m\u001B[38;5;241;43m.\u001B[39;49m\u001B[43moptions\u001B[49m\u001B[43m)\u001B[49m,\n\u001B[0;32m    129\u001B[0m     context\u001B[38;5;241m=\u001B[39mrequest\u001B[38;5;241m.\u001B[39mcontext,\n\u001B[0;32m    130\u001B[0m )\n",
      "File \u001B[1;32m~\\Desktop\\ESAIP\\AzureAi\\venv\\Lib\\site-packages\\azure\\core\\pipeline\\transport\\_requests_basic.py:409\u001B[0m, in \u001B[0;36mRequestsTransport.send\u001B[1;34m(self, request, proxies, **kwargs)\u001B[0m\n\u001B[0;32m    406\u001B[0m     error \u001B[38;5;241m=\u001B[39m ServiceRequestError(err, error\u001B[38;5;241m=\u001B[39merr)\n\u001B[0;32m    408\u001B[0m \u001B[38;5;28;01mif\u001B[39;00m error:\n\u001B[1;32m--> 409\u001B[0m     \u001B[38;5;28;01mraise\u001B[39;00m error\n\u001B[0;32m    410\u001B[0m \u001B[38;5;28;01mif\u001B[39;00m _is_rest(request):\n\u001B[0;32m    411\u001B[0m     \u001B[38;5;28;01mfrom\u001B[39;00m \u001B[38;5;21;01mazure\u001B[39;00m\u001B[38;5;21;01m.\u001B[39;00m\u001B[38;5;21;01mcore\u001B[39;00m\u001B[38;5;21;01m.\u001B[39;00m\u001B[38;5;21;01mrest\u001B[39;00m\u001B[38;5;21;01m.\u001B[39;00m\u001B[38;5;21;01m_requests_basic\u001B[39;00m \u001B[38;5;28;01mimport\u001B[39;00m RestRequestsTransportResponse\n",
      "\u001B[1;31mServiceRequestError\u001B[0m: <urllib3.connection.HTTPSConnection object at 0x00000212192A80B0>: Failed to resolve 'votre-endpoint.cognitiveservices.azure.com' ([Errno 11001] getaddrinfo failed)"
     ]
    }
   ],
   "execution_count": 4
  },
  {
   "metadata": {},
   "cell_type": "markdown",
   "source": [
    "Cette section affiche la vidéo annotée. La boucle continue à capturer et analyser les images toutes les 3 secondes.\n",
    "\n"
   ],
   "id": "fbcf7c885b54f392"
  }
 ],
 "metadata": {
  "kernelspec": {
   "display_name": "Python 3",
   "language": "python",
   "name": "python3"
  },
  "language_info": {
   "codemirror_mode": {
    "name": "ipython",
    "version": 2
   },
   "file_extension": ".py",
   "mimetype": "text/x-python",
   "name": "python",
   "nbconvert_exporter": "python",
   "pygments_lexer": "ipython2",
   "version": "2.7.6"
  }
 },
 "nbformat": 4,
 "nbformat_minor": 5
}
